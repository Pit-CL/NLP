{
  "nbformat": 4,
  "nbformat_minor": 0,
  "metadata": {
    "accelerator": "GPU",
    "colab": {
      "name": "Tarea 2 RF IA",
      "provenance": [],
      "collapsed_sections": [],
      "toc_visible": true,
      "machine_shape": "hm"
    },
    "kernelspec": {
      "display_name": "Python 3",
      "name": "python3"
    },
    "language_info": {
      "name": "python"
    }
  },
  "cells": [
    {
      "cell_type": "code",
      "metadata": {
        "colab": {
          "base_uri": "https://localhost:8080/"
        },
        "id": "rG5-ukE83kTx",
        "outputId": "6f0bb64b-dd60-451d-feae-54afa15393b5"
      },
      "source": [
        "from google.colab import drive\n",
        "drive.mount('/content/drive')"
      ],
      "execution_count": 4,
      "outputs": [
        {
          "output_type": "stream",
          "text": [
            "Mounted at /content/drive\n"
          ],
          "name": "stdout"
        }
      ]
    },
    {
      "cell_type": "code",
      "metadata": {
        "colab": {
          "base_uri": "https://localhost:8080/"
        },
        "id": "q_UALe1ReQ9s",
        "outputId": "5fec36aa-6038-4a2f-db9a-f421ebf2b2b1"
      },
      "source": [
        "!pip install fastai --upgrade\n",
        "!pip install sentencepiece!=0.1.90,!=0.1.91"
      ],
      "execution_count": 1,
      "outputs": [
        {
          "output_type": "stream",
          "text": [
            "Collecting fastai\n",
            "\u001b[?25l  Downloading https://files.pythonhosted.org/packages/bd/ca/bc9f4e04adcdfda1357f5c63bc67a7bf4f315883ca544726f3376b1ed068/fastai-2.4-py3-none-any.whl (187kB)\n",
            "\r\u001b[K     |█▊                              | 10kB 15.8MB/s eta 0:00:01\r\u001b[K     |███▌                            | 20kB 21.2MB/s eta 0:00:01\r\u001b[K     |█████▎                          | 30kB 26.4MB/s eta 0:00:01\r\u001b[K     |███████                         | 40kB 23.0MB/s eta 0:00:01\r\u001b[K     |████████▊                       | 51kB 16.7MB/s eta 0:00:01\r\u001b[K     |██████████▌                     | 61kB 13.7MB/s eta 0:00:01\r\u001b[K     |████████████▏                   | 71kB 12.5MB/s eta 0:00:01\r\u001b[K     |██████████████                  | 81kB 13.6MB/s eta 0:00:01\r\u001b[K     |███████████████▊                | 92kB 13.9MB/s eta 0:00:01\r\u001b[K     |█████████████████▍              | 102kB 15.0MB/s eta 0:00:01\r\u001b[K     |███████████████████▏            | 112kB 15.0MB/s eta 0:00:01\r\u001b[K     |█████████████████████           | 122kB 15.0MB/s eta 0:00:01\r\u001b[K     |██████████████████████▊         | 133kB 15.0MB/s eta 0:00:01\r\u001b[K     |████████████████████████▍       | 143kB 15.0MB/s eta 0:00:01\r\u001b[K     |██████████████████████████▏     | 153kB 15.0MB/s eta 0:00:01\r\u001b[K     |████████████████████████████    | 163kB 15.0MB/s eta 0:00:01\r\u001b[K     |█████████████████████████████▋  | 174kB 15.0MB/s eta 0:00:01\r\u001b[K     |███████████████████████████████▍| 184kB 15.0MB/s eta 0:00:01\r\u001b[K     |████████████████████████████████| 194kB 15.0MB/s \n",
            "\u001b[?25hRequirement already satisfied, skipping upgrade: requests in /usr/local/lib/python3.7/dist-packages (from fastai) (2.23.0)\n",
            "Requirement already satisfied, skipping upgrade: torchvision>=0.8.2 in /usr/local/lib/python3.7/dist-packages (from fastai) (0.10.0+cu102)\n",
            "Requirement already satisfied, skipping upgrade: pandas in /usr/local/lib/python3.7/dist-packages (from fastai) (1.1.5)\n",
            "Requirement already satisfied, skipping upgrade: pyyaml in /usr/local/lib/python3.7/dist-packages (from fastai) (3.13)\n",
            "Requirement already satisfied, skipping upgrade: scikit-learn in /usr/local/lib/python3.7/dist-packages (from fastai) (0.22.2.post1)\n",
            "Requirement already satisfied, skipping upgrade: pip in /usr/local/lib/python3.7/dist-packages (from fastai) (19.3.1)\n",
            "Requirement already satisfied, skipping upgrade: spacy<4 in /usr/local/lib/python3.7/dist-packages (from fastai) (2.2.4)\n",
            "Collecting fastcore<1.4,>=1.3.8\n",
            "\u001b[?25l  Downloading https://files.pythonhosted.org/packages/d8/b0/f1fbf554e0bf3c76e1bdc3b82eedfe41fcf656479586be38c64421082b1b/fastcore-1.3.20-py3-none-any.whl (53kB)\n",
            "\u001b[K     |████████████████████████████████| 61kB 8.0MB/s \n",
            "\u001b[?25hRequirement already satisfied, skipping upgrade: torch<1.10,>=1.7.0 in /usr/local/lib/python3.7/dist-packages (from fastai) (1.9.0+cu102)\n",
            "Requirement already satisfied, skipping upgrade: matplotlib in /usr/local/lib/python3.7/dist-packages (from fastai) (3.2.2)\n",
            "Requirement already satisfied, skipping upgrade: fastprogress>=0.2.4 in /usr/local/lib/python3.7/dist-packages (from fastai) (1.0.0)\n",
            "Requirement already satisfied, skipping upgrade: packaging in /usr/local/lib/python3.7/dist-packages (from fastai) (20.9)\n",
            "Requirement already satisfied, skipping upgrade: pillow>6.0.0 in /usr/local/lib/python3.7/dist-packages (from fastai) (7.1.2)\n",
            "Requirement already satisfied, skipping upgrade: scipy in /usr/local/lib/python3.7/dist-packages (from fastai) (1.4.1)\n",
            "Requirement already satisfied, skipping upgrade: urllib3!=1.25.0,!=1.25.1,<1.26,>=1.21.1 in /usr/local/lib/python3.7/dist-packages (from requests->fastai) (1.24.3)\n",
            "Requirement already satisfied, skipping upgrade: chardet<4,>=3.0.2 in /usr/local/lib/python3.7/dist-packages (from requests->fastai) (3.0.4)\n",
            "Requirement already satisfied, skipping upgrade: certifi>=2017.4.17 in /usr/local/lib/python3.7/dist-packages (from requests->fastai) (2021.5.30)\n",
            "Requirement already satisfied, skipping upgrade: idna<3,>=2.5 in /usr/local/lib/python3.7/dist-packages (from requests->fastai) (2.10)\n",
            "Requirement already satisfied, skipping upgrade: numpy in /usr/local/lib/python3.7/dist-packages (from torchvision>=0.8.2->fastai) (1.19.5)\n",
            "Requirement already satisfied, skipping upgrade: python-dateutil>=2.7.3 in /usr/local/lib/python3.7/dist-packages (from pandas->fastai) (2.8.1)\n",
            "Requirement already satisfied, skipping upgrade: pytz>=2017.2 in /usr/local/lib/python3.7/dist-packages (from pandas->fastai) (2018.9)\n",
            "Requirement already satisfied, skipping upgrade: joblib>=0.11 in /usr/local/lib/python3.7/dist-packages (from scikit-learn->fastai) (1.0.1)\n",
            "Requirement already satisfied, skipping upgrade: wasabi<1.1.0,>=0.4.0 in /usr/local/lib/python3.7/dist-packages (from spacy<4->fastai) (0.8.2)\n",
            "Requirement already satisfied, skipping upgrade: srsly<1.1.0,>=1.0.2 in /usr/local/lib/python3.7/dist-packages (from spacy<4->fastai) (1.0.5)\n",
            "Requirement already satisfied, skipping upgrade: tqdm<5.0.0,>=4.38.0 in /usr/local/lib/python3.7/dist-packages (from spacy<4->fastai) (4.41.1)\n",
            "Requirement already satisfied, skipping upgrade: catalogue<1.1.0,>=0.0.7 in /usr/local/lib/python3.7/dist-packages (from spacy<4->fastai) (1.0.0)\n",
            "Requirement already satisfied, skipping upgrade: plac<1.2.0,>=0.9.6 in /usr/local/lib/python3.7/dist-packages (from spacy<4->fastai) (1.1.3)\n",
            "Requirement already satisfied, skipping upgrade: preshed<3.1.0,>=3.0.2 in /usr/local/lib/python3.7/dist-packages (from spacy<4->fastai) (3.0.5)\n",
            "Requirement already satisfied, skipping upgrade: setuptools in /usr/local/lib/python3.7/dist-packages (from spacy<4->fastai) (57.0.0)\n",
            "Requirement already satisfied, skipping upgrade: cymem<2.1.0,>=2.0.2 in /usr/local/lib/python3.7/dist-packages (from spacy<4->fastai) (2.0.5)\n",
            "Requirement already satisfied, skipping upgrade: thinc==7.4.0 in /usr/local/lib/python3.7/dist-packages (from spacy<4->fastai) (7.4.0)\n",
            "Requirement already satisfied, skipping upgrade: murmurhash<1.1.0,>=0.28.0 in /usr/local/lib/python3.7/dist-packages (from spacy<4->fastai) (1.0.5)\n",
            "Requirement already satisfied, skipping upgrade: blis<0.5.0,>=0.4.0 in /usr/local/lib/python3.7/dist-packages (from spacy<4->fastai) (0.4.1)\n",
            "Requirement already satisfied, skipping upgrade: typing-extensions in /usr/local/lib/python3.7/dist-packages (from torch<1.10,>=1.7.0->fastai) (3.7.4.3)\n",
            "Requirement already satisfied, skipping upgrade: kiwisolver>=1.0.1 in /usr/local/lib/python3.7/dist-packages (from matplotlib->fastai) (1.3.1)\n",
            "Requirement already satisfied, skipping upgrade: cycler>=0.10 in /usr/local/lib/python3.7/dist-packages (from matplotlib->fastai) (0.10.0)\n",
            "Requirement already satisfied, skipping upgrade: pyparsing!=2.0.4,!=2.1.2,!=2.1.6,>=2.0.1 in /usr/local/lib/python3.7/dist-packages (from matplotlib->fastai) (2.4.7)\n",
            "Requirement already satisfied, skipping upgrade: six>=1.5 in /usr/local/lib/python3.7/dist-packages (from python-dateutil>=2.7.3->pandas->fastai) (1.15.0)\n",
            "Requirement already satisfied, skipping upgrade: importlib-metadata>=0.20; python_version < \"3.8\" in /usr/local/lib/python3.7/dist-packages (from catalogue<1.1.0,>=0.0.7->spacy<4->fastai) (4.5.0)\n",
            "Requirement already satisfied, skipping upgrade: zipp>=0.5 in /usr/local/lib/python3.7/dist-packages (from importlib-metadata>=0.20; python_version < \"3.8\"->catalogue<1.1.0,>=0.0.7->spacy<4->fastai) (3.4.1)\n",
            "Installing collected packages: fastcore, fastai\n",
            "  Found existing installation: fastai 1.0.61\n",
            "    Uninstalling fastai-1.0.61:\n",
            "      Successfully uninstalled fastai-1.0.61\n",
            "Successfully installed fastai-2.4 fastcore-1.3.20\n",
            "Collecting sentencepiece!=0.1.90,!=0.1.91\n",
            "\u001b[?25l  Downloading https://files.pythonhosted.org/packages/ac/aa/1437691b0c7c83086ebb79ce2da16e00bef024f24fec2a5161c35476f499/sentencepiece-0.1.96-cp37-cp37m-manylinux_2_17_x86_64.manylinux2014_x86_64.whl (1.2MB)\n",
            "\u001b[K     |████████████████████████████████| 1.2MB 14.9MB/s \n",
            "\u001b[?25hInstalling collected packages: sentencepiece\n",
            "Successfully installed sentencepiece-0.1.96\n"
          ],
          "name": "stdout"
        }
      ]
    },
    {
      "cell_type": "code",
      "metadata": {
        "colab": {
          "base_uri": "https://localhost:8080/"
        },
        "id": "RxiJw0LheiNW",
        "outputId": "2c0b2119-e038-468f-8dd4-638cb4899669"
      },
      "source": [
        "!pip install fastai-ulmfit"
      ],
      "execution_count": 2,
      "outputs": [
        {
          "output_type": "stream",
          "text": [
            "Collecting fastai-ulmfit\n",
            "  Downloading https://files.pythonhosted.org/packages/73/e4/5389c4d53a59356f5f2ac503138fe7572a310d154eacad091b5a761b79b3/fastai_ulmfit-0.0.4-py3-none-any.whl\n",
            "Requirement already satisfied: sentencepiece>=0.1.95 in /usr/local/lib/python3.7/dist-packages (from fastai-ulmfit) (0.1.96)\n",
            "Requirement already satisfied: fastai>=2.2.7 in /usr/local/lib/python3.7/dist-packages (from fastai-ulmfit) (2.4)\n",
            "Requirement already satisfied: scikit-learn in /usr/local/lib/python3.7/dist-packages (from fastai>=2.2.7->fastai-ulmfit) (0.22.2.post1)\n",
            "Requirement already satisfied: torch<1.10,>=1.7.0 in /usr/local/lib/python3.7/dist-packages (from fastai>=2.2.7->fastai-ulmfit) (1.9.0+cu102)\n",
            "Requirement already satisfied: pandas in /usr/local/lib/python3.7/dist-packages (from fastai>=2.2.7->fastai-ulmfit) (1.1.5)\n",
            "Requirement already satisfied: torchvision>=0.8.2 in /usr/local/lib/python3.7/dist-packages (from fastai>=2.2.7->fastai-ulmfit) (0.10.0+cu102)\n",
            "Requirement already satisfied: fastprogress>=0.2.4 in /usr/local/lib/python3.7/dist-packages (from fastai>=2.2.7->fastai-ulmfit) (1.0.0)\n",
            "Requirement already satisfied: pillow>6.0.0 in /usr/local/lib/python3.7/dist-packages (from fastai>=2.2.7->fastai-ulmfit) (7.1.2)\n",
            "Requirement already satisfied: pyyaml in /usr/local/lib/python3.7/dist-packages (from fastai>=2.2.7->fastai-ulmfit) (3.13)\n",
            "Requirement already satisfied: pip in /usr/local/lib/python3.7/dist-packages (from fastai>=2.2.7->fastai-ulmfit) (19.3.1)\n",
            "Requirement already satisfied: fastcore<1.4,>=1.3.8 in /usr/local/lib/python3.7/dist-packages (from fastai>=2.2.7->fastai-ulmfit) (1.3.20)\n",
            "Requirement already satisfied: matplotlib in /usr/local/lib/python3.7/dist-packages (from fastai>=2.2.7->fastai-ulmfit) (3.2.2)\n",
            "Requirement already satisfied: scipy in /usr/local/lib/python3.7/dist-packages (from fastai>=2.2.7->fastai-ulmfit) (1.4.1)\n",
            "Requirement already satisfied: requests in /usr/local/lib/python3.7/dist-packages (from fastai>=2.2.7->fastai-ulmfit) (2.23.0)\n",
            "Requirement already satisfied: packaging in /usr/local/lib/python3.7/dist-packages (from fastai>=2.2.7->fastai-ulmfit) (20.9)\n",
            "Requirement already satisfied: spacy<4 in /usr/local/lib/python3.7/dist-packages (from fastai>=2.2.7->fastai-ulmfit) (2.2.4)\n",
            "Requirement already satisfied: numpy>=1.11.0 in /usr/local/lib/python3.7/dist-packages (from scikit-learn->fastai>=2.2.7->fastai-ulmfit) (1.19.5)\n",
            "Requirement already satisfied: joblib>=0.11 in /usr/local/lib/python3.7/dist-packages (from scikit-learn->fastai>=2.2.7->fastai-ulmfit) (1.0.1)\n",
            "Requirement already satisfied: typing-extensions in /usr/local/lib/python3.7/dist-packages (from torch<1.10,>=1.7.0->fastai>=2.2.7->fastai-ulmfit) (3.7.4.3)\n",
            "Requirement already satisfied: python-dateutil>=2.7.3 in /usr/local/lib/python3.7/dist-packages (from pandas->fastai>=2.2.7->fastai-ulmfit) (2.8.1)\n",
            "Requirement already satisfied: pytz>=2017.2 in /usr/local/lib/python3.7/dist-packages (from pandas->fastai>=2.2.7->fastai-ulmfit) (2018.9)\n",
            "Requirement already satisfied: kiwisolver>=1.0.1 in /usr/local/lib/python3.7/dist-packages (from matplotlib->fastai>=2.2.7->fastai-ulmfit) (1.3.1)\n",
            "Requirement already satisfied: cycler>=0.10 in /usr/local/lib/python3.7/dist-packages (from matplotlib->fastai>=2.2.7->fastai-ulmfit) (0.10.0)\n",
            "Requirement already satisfied: pyparsing!=2.0.4,!=2.1.2,!=2.1.6,>=2.0.1 in /usr/local/lib/python3.7/dist-packages (from matplotlib->fastai>=2.2.7->fastai-ulmfit) (2.4.7)\n",
            "Requirement already satisfied: certifi>=2017.4.17 in /usr/local/lib/python3.7/dist-packages (from requests->fastai>=2.2.7->fastai-ulmfit) (2021.5.30)\n",
            "Requirement already satisfied: chardet<4,>=3.0.2 in /usr/local/lib/python3.7/dist-packages (from requests->fastai>=2.2.7->fastai-ulmfit) (3.0.4)\n",
            "Requirement already satisfied: idna<3,>=2.5 in /usr/local/lib/python3.7/dist-packages (from requests->fastai>=2.2.7->fastai-ulmfit) (2.10)\n",
            "Requirement already satisfied: urllib3!=1.25.0,!=1.25.1,<1.26,>=1.21.1 in /usr/local/lib/python3.7/dist-packages (from requests->fastai>=2.2.7->fastai-ulmfit) (1.24.3)\n",
            "Requirement already satisfied: plac<1.2.0,>=0.9.6 in /usr/local/lib/python3.7/dist-packages (from spacy<4->fastai>=2.2.7->fastai-ulmfit) (1.1.3)\n",
            "Requirement already satisfied: thinc==7.4.0 in /usr/local/lib/python3.7/dist-packages (from spacy<4->fastai>=2.2.7->fastai-ulmfit) (7.4.0)\n",
            "Requirement already satisfied: murmurhash<1.1.0,>=0.28.0 in /usr/local/lib/python3.7/dist-packages (from spacy<4->fastai>=2.2.7->fastai-ulmfit) (1.0.5)\n",
            "Requirement already satisfied: blis<0.5.0,>=0.4.0 in /usr/local/lib/python3.7/dist-packages (from spacy<4->fastai>=2.2.7->fastai-ulmfit) (0.4.1)\n",
            "Requirement already satisfied: catalogue<1.1.0,>=0.0.7 in /usr/local/lib/python3.7/dist-packages (from spacy<4->fastai>=2.2.7->fastai-ulmfit) (1.0.0)\n",
            "Requirement already satisfied: wasabi<1.1.0,>=0.4.0 in /usr/local/lib/python3.7/dist-packages (from spacy<4->fastai>=2.2.7->fastai-ulmfit) (0.8.2)\n",
            "Requirement already satisfied: preshed<3.1.0,>=3.0.2 in /usr/local/lib/python3.7/dist-packages (from spacy<4->fastai>=2.2.7->fastai-ulmfit) (3.0.5)\n",
            "Requirement already satisfied: cymem<2.1.0,>=2.0.2 in /usr/local/lib/python3.7/dist-packages (from spacy<4->fastai>=2.2.7->fastai-ulmfit) (2.0.5)\n",
            "Requirement already satisfied: srsly<1.1.0,>=1.0.2 in /usr/local/lib/python3.7/dist-packages (from spacy<4->fastai>=2.2.7->fastai-ulmfit) (1.0.5)\n",
            "Requirement already satisfied: setuptools in /usr/local/lib/python3.7/dist-packages (from spacy<4->fastai>=2.2.7->fastai-ulmfit) (57.0.0)\n",
            "Requirement already satisfied: tqdm<5.0.0,>=4.38.0 in /usr/local/lib/python3.7/dist-packages (from spacy<4->fastai>=2.2.7->fastai-ulmfit) (4.41.1)\n",
            "Requirement already satisfied: six>=1.5 in /usr/local/lib/python3.7/dist-packages (from python-dateutil>=2.7.3->pandas->fastai>=2.2.7->fastai-ulmfit) (1.15.0)\n",
            "Requirement already satisfied: importlib-metadata>=0.20; python_version < \"3.8\" in /usr/local/lib/python3.7/dist-packages (from catalogue<1.1.0,>=0.0.7->spacy<4->fastai>=2.2.7->fastai-ulmfit) (4.5.0)\n",
            "Requirement already satisfied: zipp>=0.5 in /usr/local/lib/python3.7/dist-packages (from importlib-metadata>=0.20; python_version < \"3.8\"->catalogue<1.1.0,>=0.0.7->spacy<4->fastai>=2.2.7->fastai-ulmfit) (3.4.1)\n",
            "Installing collected packages: fastai-ulmfit\n",
            "Successfully installed fastai-ulmfit-0.0.4\n"
          ],
          "name": "stdout"
        }
      ]
    },
    {
      "cell_type": "markdown",
      "metadata": {
        "id": "tTBIWQGBCJbS"
      },
      "source": [
        "### 2.1 (0.5 puntos) Cargue los datos del conjunto de entrenamiento y validación a un dataframe de pandas. Para cada conjunto muestre lo siguiente: la cantidad de reseñas por cada categoría de estrellas y la cantidad de palabras promedio por reseña. En la siguiente imagen una pequeña ayuda para realizar la carga de datos.\n"
      ]
    },
    {
      "cell_type": "code",
      "metadata": {
        "id": "17zU3k6oeyQ8"
      },
      "source": [
        "import json\n",
        "import pandas as pd\n",
        "from fastai_ulmfit.pretrained import *\n",
        "from fastai.text.all import *"
      ],
      "execution_count": 3,
      "outputs": []
    },
    {
      "cell_type": "code",
      "metadata": {
        "id": "51x0Ddn6_ceP"
      },
      "source": [
        "folder = \"/content/drive/MyDrive/tarea2/dataset_es_dev.json\""
      ],
      "execution_count": 5,
      "outputs": []
    },
    {
      "cell_type": "code",
      "metadata": {
        "id": "VvKamU5bKQLb"
      },
      "source": [
        "# Se cargan los datos de entrenamiento.\n",
        "df_train = pd.read_json('/content/drive/MyDrive/MDS/IA/dataset_es_train.json', lines=True)"
      ],
      "execution_count": 6,
      "outputs": []
    },
    {
      "cell_type": "code",
      "metadata": {
        "colab": {
          "base_uri": "https://localhost:8080/",
          "height": 306
        },
        "id": "ZYPEtK1YLNBM",
        "outputId": "df7f1903-de64-43f9-b87d-2bdd7c5f93c3"
      },
      "source": [
        "df_train.head(5)"
      ],
      "execution_count": 7,
      "outputs": [
        {
          "output_type": "execute_result",
          "data": {
            "text/html": [
              "<div>\n",
              "<style scoped>\n",
              "    .dataframe tbody tr th:only-of-type {\n",
              "        vertical-align: middle;\n",
              "    }\n",
              "\n",
              "    .dataframe tbody tr th {\n",
              "        vertical-align: top;\n",
              "    }\n",
              "\n",
              "    .dataframe thead th {\n",
              "        text-align: right;\n",
              "    }\n",
              "</style>\n",
              "<table border=\"1\" class=\"dataframe\">\n",
              "  <thead>\n",
              "    <tr style=\"text-align: right;\">\n",
              "      <th></th>\n",
              "      <th>review_id</th>\n",
              "      <th>product_id</th>\n",
              "      <th>reviewer_id</th>\n",
              "      <th>stars</th>\n",
              "      <th>review_body</th>\n",
              "      <th>review_title</th>\n",
              "      <th>language</th>\n",
              "      <th>product_category</th>\n",
              "    </tr>\n",
              "  </thead>\n",
              "  <tbody>\n",
              "    <tr>\n",
              "      <th>0</th>\n",
              "      <td>es_0491108</td>\n",
              "      <td>product_es_0296024</td>\n",
              "      <td>reviewer_es_0999081</td>\n",
              "      <td>1</td>\n",
              "      <td>Nada bueno se me fue ka pantalla en menos de 8 meses y no he recibido respuesta del fabricante</td>\n",
              "      <td>television Nevir</td>\n",
              "      <td>es</td>\n",
              "      <td>electronics</td>\n",
              "    </tr>\n",
              "    <tr>\n",
              "      <th>1</th>\n",
              "      <td>es_0869872</td>\n",
              "      <td>product_es_0922286</td>\n",
              "      <td>reviewer_es_0216771</td>\n",
              "      <td>1</td>\n",
              "      <td>Horrible, nos tuvimos que comprar otro porque ni nosotros que sabemos inglés, ni un informático, después de una hora fue capaz de instalarlo</td>\n",
              "      <td>Dinero tirado a la basura con esta compra</td>\n",
              "      <td>es</td>\n",
              "      <td>electronics</td>\n",
              "    </tr>\n",
              "    <tr>\n",
              "      <th>2</th>\n",
              "      <td>es_0811721</td>\n",
              "      <td>product_es_0474543</td>\n",
              "      <td>reviewer_es_0929213</td>\n",
              "      <td>1</td>\n",
              "      <td>Te obligan a comprar dos unidades y te llega solo una y no hay forma de reclamar, una autentica estafa, no compreis!!</td>\n",
              "      <td>solo llega una unidad cuando te obligan a comprar dos</td>\n",
              "      <td>es</td>\n",
              "      <td>drugstore</td>\n",
              "    </tr>\n",
              "    <tr>\n",
              "      <th>3</th>\n",
              "      <td>es_0359921</td>\n",
              "      <td>product_es_0656090</td>\n",
              "      <td>reviewer_es_0224702</td>\n",
              "      <td>1</td>\n",
              "      <td>No entro en descalificar al vendedor, solo puedo decir que tras dos meses de espera.... sigo sin el producto y tuve que contactar con Amazon para reclamar su reembolso. Amazon un 10 . Se hace cargo del problema, pero yo e desembolsado mi dinero y en dos meses me lo devuelven Perdida de tiempo TOTAL. Sin palabras. Y Ustedes deciden</td>\n",
              "      <td>PRODUCTO NO RECIBIDO.</td>\n",
              "      <td>es</td>\n",
              "      <td>wireless</td>\n",
              "    </tr>\n",
              "    <tr>\n",
              "      <th>4</th>\n",
              "      <td>es_0068940</td>\n",
              "      <td>product_es_0662544</td>\n",
              "      <td>reviewer_es_0224827</td>\n",
              "      <td>1</td>\n",
              "      <td>Llega tarde y co la talla equivocada</td>\n",
              "      <td>Devuelto</td>\n",
              "      <td>es</td>\n",
              "      <td>shoes</td>\n",
              "    </tr>\n",
              "  </tbody>\n",
              "</table>\n",
              "</div>"
            ],
            "text/plain": [
              "    review_id          product_id  ... language  product_category\n",
              "0  es_0491108  product_es_0296024  ...       es       electronics\n",
              "1  es_0869872  product_es_0922286  ...       es       electronics\n",
              "2  es_0811721  product_es_0474543  ...       es         drugstore\n",
              "3  es_0359921  product_es_0656090  ...       es          wireless\n",
              "4  es_0068940  product_es_0662544  ...       es             shoes\n",
              "\n",
              "[5 rows x 8 columns]"
            ]
          },
          "metadata": {
            "tags": []
          },
          "execution_count": 7
        }
      ]
    },
    {
      "cell_type": "code",
      "metadata": {
        "id": "X1Bn4ofKLNOx"
      },
      "source": [
        "# Se cargan los datos de testeo.\n",
        "df_test = pd.read_json('/content/drive/MyDrive/MDS/IA/dataset_es_test.json', lines=True)"
      ],
      "execution_count": 8,
      "outputs": []
    },
    {
      "cell_type": "code",
      "metadata": {
        "colab": {
          "base_uri": "https://localhost:8080/",
          "height": 210
        },
        "id": "UPJzDFGfLNRJ",
        "outputId": "a5fa7a4c-5079-4ca5-bdea-7a907ef05de7"
      },
      "source": [
        "# Se muestra la información.\n",
        "df_test.head(3)"
      ],
      "execution_count": 9,
      "outputs": [
        {
          "output_type": "execute_result",
          "data": {
            "text/html": [
              "<div>\n",
              "<style scoped>\n",
              "    .dataframe tbody tr th:only-of-type {\n",
              "        vertical-align: middle;\n",
              "    }\n",
              "\n",
              "    .dataframe tbody tr th {\n",
              "        vertical-align: top;\n",
              "    }\n",
              "\n",
              "    .dataframe thead th {\n",
              "        text-align: right;\n",
              "    }\n",
              "</style>\n",
              "<table border=\"1\" class=\"dataframe\">\n",
              "  <thead>\n",
              "    <tr style=\"text-align: right;\">\n",
              "      <th></th>\n",
              "      <th>review_id</th>\n",
              "      <th>product_id</th>\n",
              "      <th>reviewer_id</th>\n",
              "      <th>stars</th>\n",
              "      <th>review_body</th>\n",
              "      <th>review_title</th>\n",
              "      <th>language</th>\n",
              "      <th>product_category</th>\n",
              "    </tr>\n",
              "  </thead>\n",
              "  <tbody>\n",
              "    <tr>\n",
              "      <th>0</th>\n",
              "      <td>es_0038754</td>\n",
              "      <td>product_es_0113523</td>\n",
              "      <td>reviewer_es_0580071</td>\n",
              "      <td>1</td>\n",
              "      <td>no me llego el articulo me lo mando por correos normal sin seguimiento y nunca me llego tota un desastre</td>\n",
              "      <td>no me llego</td>\n",
              "      <td>es</td>\n",
              "      <td>wireless</td>\n",
              "    </tr>\n",
              "    <tr>\n",
              "      <th>1</th>\n",
              "      <td>es_0748979</td>\n",
              "      <td>product_es_0017036</td>\n",
              "      <td>reviewer_es_0819733</td>\n",
              "      <td>1</td>\n",
              "      <td>la mensajería horrible, no compro mas</td>\n",
              "      <td>amazon sigue sin cumplir en las entregas</td>\n",
              "      <td>es</td>\n",
              "      <td>home</td>\n",
              "    </tr>\n",
              "    <tr>\n",
              "      <th>2</th>\n",
              "      <td>es_0411746</td>\n",
              "      <td>product_es_0138642</td>\n",
              "      <td>reviewer_es_0508607</td>\n",
              "      <td>1</td>\n",
              "      <td>Estoy muy decepcionado con el vendedor ya que el pedido no me llegó a tiempo y no cumplió los plazos de envío y era una cosa que necesitaba urgente. Para colmo me pongo en contacto con el vendedor y no da señales. No recomiendo nada</td>\n",
              "      <td>ESTAFA EN EL ENVÍO</td>\n",
              "      <td>es</td>\n",
              "      <td>toy</td>\n",
              "    </tr>\n",
              "  </tbody>\n",
              "</table>\n",
              "</div>"
            ],
            "text/plain": [
              "    review_id          product_id  ... language  product_category\n",
              "0  es_0038754  product_es_0113523  ...       es          wireless\n",
              "1  es_0748979  product_es_0017036  ...       es              home\n",
              "2  es_0411746  product_es_0138642  ...       es               toy\n",
              "\n",
              "[3 rows x 8 columns]"
            ]
          },
          "metadata": {
            "tags": []
          },
          "execution_count": 9
        }
      ]
    },
    {
      "cell_type": "code",
      "metadata": {
        "id": "a7JZf0OXLNTt"
      },
      "source": [
        "# Se crea un solo dataset que reune tanto el conjunto de entranamiento como de testeo  través de una concatenación.\n",
        "df = pd.concat([df_train, df_test])"
      ],
      "execution_count": 10,
      "outputs": []
    },
    {
      "cell_type": "code",
      "metadata": {
        "id": "y64jSWU-WqRl",
        "colab": {
          "base_uri": "https://localhost:8080/",
          "height": 17
        },
        "outputId": "a3ae70a9-5762-4f91-bae7-402b0671022a"
      },
      "source": [
        "# Utilizando la biblioteca ULMFIT.\n",
        "url = 'http://bit.ly/ulmfit-eswiki'\n",
        "tok = tokenizer_from_pretrained(url)"
      ],
      "execution_count": 11,
      "outputs": [
        {
          "output_type": "display_data",
          "data": {
            "text/html": [
              ""
            ],
            "text/plain": [
              "<IPython.core.display.HTML object>"
            ]
          },
          "metadata": {
            "tags": []
          }
        }
      ]
    },
    {
      "cell_type": "code",
      "metadata": {
        "colab": {
          "base_uri": "https://localhost:8080/"
        },
        "id": "zDpSnhezWwZq",
        "outputId": "f60f5224-e8c8-42cf-a8b1-093b2b73f1b9"
      },
      "source": [
        "# Investigando las columnas que tiene el dataset de train.\n",
        "df_train.columns"
      ],
      "execution_count": 12,
      "outputs": [
        {
          "output_type": "execute_result",
          "data": {
            "text/plain": [
              "Index(['review_id', 'product_id', 'reviewer_id', 'stars', 'review_body',\n",
              "       'review_title', 'language', 'product_category'],\n",
              "      dtype='object')"
            ]
          },
          "metadata": {
            "tags": []
          },
          "execution_count": 12
        }
      ]
    },
    {
      "cell_type": "code",
      "metadata": {
        "id": "aOr2UuXRYi2u"
      },
      "source": [
        "# Creando un df que contenga solo el review.\n",
        "df_lm = df_train[['review_body']]"
      ],
      "execution_count": 13,
      "outputs": []
    },
    {
      "cell_type": "code",
      "metadata": {
        "colab": {
          "base_uri": "https://localhost:8080/",
          "height": 436
        },
        "id": "WwjHyT9zYjBb",
        "outputId": "deaa2ae1-5484-41a6-ab62-4ccc94065de8"
      },
      "source": [
        "# Mostrando el dataset recién creado.\n",
        "df_lm"
      ],
      "execution_count": 14,
      "outputs": [
        {
          "output_type": "execute_result",
          "data": {
            "text/html": [
              "<div>\n",
              "<style scoped>\n",
              "    .dataframe tbody tr th:only-of-type {\n",
              "        vertical-align: middle;\n",
              "    }\n",
              "\n",
              "    .dataframe tbody tr th {\n",
              "        vertical-align: top;\n",
              "    }\n",
              "\n",
              "    .dataframe thead th {\n",
              "        text-align: right;\n",
              "    }\n",
              "</style>\n",
              "<table border=\"1\" class=\"dataframe\">\n",
              "  <thead>\n",
              "    <tr style=\"text-align: right;\">\n",
              "      <th></th>\n",
              "      <th>review_body</th>\n",
              "    </tr>\n",
              "  </thead>\n",
              "  <tbody>\n",
              "    <tr>\n",
              "      <th>0</th>\n",
              "      <td>Nada bueno se me fue ka pantalla en menos de 8 meses y no he recibido respuesta del fabricante</td>\n",
              "    </tr>\n",
              "    <tr>\n",
              "      <th>1</th>\n",
              "      <td>Horrible, nos tuvimos que comprar otro porque ni nosotros que sabemos inglés, ni un informático, después de una hora fue capaz de instalarlo</td>\n",
              "    </tr>\n",
              "    <tr>\n",
              "      <th>2</th>\n",
              "      <td>Te obligan a comprar dos unidades y te llega solo una y no hay forma de reclamar, una autentica estafa, no compreis!!</td>\n",
              "    </tr>\n",
              "    <tr>\n",
              "      <th>3</th>\n",
              "      <td>No entro en descalificar al vendedor, solo puedo decir que tras dos meses de espera.... sigo sin el producto y tuve que contactar con Amazon para reclamar su reembolso. Amazon un 10 . Se hace cargo del problema, pero yo e desembolsado mi dinero y en dos meses me lo devuelven Perdida de tiempo TOTAL. Sin palabras. Y Ustedes deciden</td>\n",
              "    </tr>\n",
              "    <tr>\n",
              "      <th>4</th>\n",
              "      <td>Llega tarde y co la talla equivocada</td>\n",
              "    </tr>\n",
              "    <tr>\n",
              "      <th>...</th>\n",
              "      <td>...</td>\n",
              "    </tr>\n",
              "    <tr>\n",
              "      <th>199995</th>\n",
              "      <td>Mando funciona perfectamente y cumple con todas las funciones del original. Envio y embalaje perfecto. Una buena eleccion a un precio de risa.</td>\n",
              "    </tr>\n",
              "    <tr>\n",
              "      <th>199996</th>\n",
              "      <td>Compré la batería con cierta reticencia, pero resultó muy fácil de instalar con los dos destornilladores que venían en el paquete y funciona a la perfección. Recomendable 100%</td>\n",
              "    </tr>\n",
              "    <tr>\n",
              "      <th>199997</th>\n",
              "      <td>Buena calidad. Satisfecha con la compra.</td>\n",
              "    </tr>\n",
              "    <tr>\n",
              "      <th>199998</th>\n",
              "      <td>Perfecto para el cumple de mi hijo</td>\n",
              "    </tr>\n",
              "    <tr>\n",
              "      <th>199999</th>\n",
              "      <td>Súper bien! Las brochas son buenas, no sé menos han caído pelitos, quizás pesan un poco pero con los chulas que son da igual xD</td>\n",
              "    </tr>\n",
              "  </tbody>\n",
              "</table>\n",
              "<p>200000 rows × 1 columns</p>\n",
              "</div>"
            ],
            "text/plain": [
              "                                                                                                                                                                                                                                                                                                                                         review_body\n",
              "0                                                                                                                                                                                                                                                     Nada bueno se me fue ka pantalla en menos de 8 meses y no he recibido respuesta del fabricante\n",
              "1                                                                                                                                                                                                       Horrible, nos tuvimos que comprar otro porque ni nosotros que sabemos inglés, ni un informático, después de una hora fue capaz de instalarlo\n",
              "2                                                                                                                                                                                                                              Te obligan a comprar dos unidades y te llega solo una y no hay forma de reclamar, una autentica estafa, no compreis!!\n",
              "3       No entro en descalificar al vendedor, solo puedo decir que tras dos meses de espera.... sigo sin el producto y tuve que contactar con Amazon para reclamar su reembolso. Amazon un 10 . Se hace cargo del problema, pero yo e desembolsado mi dinero y en dos meses me lo devuelven Perdida de tiempo TOTAL. Sin palabras. Y Ustedes deciden\n",
              "4                                                                                                                                                                                                                                                                                                               Llega tarde y co la talla equivocada\n",
              "...                                                                                                                                                                                                                                                                                                                                              ...\n",
              "199995                                                                                                                                                                                                Mando funciona perfectamente y cumple con todas las funciones del original. Envio y embalaje perfecto. Una buena eleccion a un precio de risa.\n",
              "199996                                                                                                                                                               Compré la batería con cierta reticencia, pero resultó muy fácil de instalar con los dos destornilladores que venían en el paquete y funciona a la perfección. Recomendable 100%\n",
              "199997                                                                                                                                                                                                                                                                                                      Buena calidad. Satisfecha con la compra.\n",
              "199998                                                                                                                                                                                                                                                                                                            Perfecto para el cumple de mi hijo\n",
              "199999                                                                                                                                                                                                               Súper bien! Las brochas son buenas, no sé menos han caído pelitos, quizás pesan un poco pero con los chulas que son da igual xD\n",
              "\n",
              "[200000 rows x 1 columns]"
            ]
          },
          "metadata": {
            "tags": []
          },
          "execution_count": 14
        }
      ]
    },
    {
      "cell_type": "markdown",
      "metadata": {
        "id": "s2EA6PDJChiu"
      },
      "source": [
        "### 2.2 (1.5 puntos) Construya un modelo de lenguaje usando los datos disponibles. Para ello tome como base el entrenamiento en español de Wikipedia hecho en la biblioteca ULMFIT (tal como lo hicimos en clase). Llegue a un valor de accuracy de al menos 0.30."
      ]
    },
    {
      "cell_type": "code",
      "metadata": {
        "colab": {
          "base_uri": "https://localhost:8080/",
          "height": 71
        },
        "id": "5alHZqVLYKOQ",
        "outputId": "93a89e53-91a3-4977-a603-a3c49db7471c"
      },
      "source": [
        "# Se crea el datablocks utilizando ULMFIT, variable independiente de text y un is_lm de true que indica si queremos usar\n",
        "# textos para modelar el lenguaje u otra tarea y por último en el dataloader un batch size de 64.\n",
        "dblocks = DataBlock(blocks=(TextBlock.from_df('review_body', tok=tok, is_lm=True)),\n",
        "                    get_x=ColReader('text'))\n",
        "dls = dblocks.dataloaders(df_lm, bs=64)"
      ],
      "execution_count": 15,
      "outputs": [
        {
          "output_type": "display_data",
          "data": {
            "text/html": [
              ""
            ],
            "text/plain": [
              "<IPython.core.display.HTML object>"
            ]
          },
          "metadata": {
            "tags": []
          }
        },
        {
          "output_type": "display_data",
          "data": {
            "text/html": [
              ""
            ],
            "text/plain": [
              "<IPython.core.display.HTML object>"
            ]
          },
          "metadata": {
            "tags": []
          }
        },
        {
          "output_type": "stream",
          "text": [
            "/usr/local/lib/python3.7/dist-packages/numpy/core/_asarray.py:83: VisibleDeprecationWarning: Creating an ndarray from ragged nested sequences (which is a list-or-tuple of lists-or-tuples-or ndarrays with different lengths or shapes) is deprecated. If you meant to do this, you must specify 'dtype=object' when creating the ndarray\n",
            "  return array(a, dtype, copy=False, order=order)\n"
          ],
          "name": "stderr"
        }
      ]
    },
    {
      "cell_type": "code",
      "metadata": {
        "id": "JEh-x-DXapJI"
      },
      "source": [
        "# Se crea el primer modelo el cual es una función que depende del dataloader, la url que lleva a la base de entrenamiento\n",
        "# de wikipedia, se le agrega un drop para evitar overfitting y to_fp16 para hacer el modelo más rápido.\n",
        "learn = language_model_from_pretrained(dls, url=url, drop_mult=1).to_fp16()"
      ],
      "execution_count": 16,
      "outputs": []
    },
    {
      "cell_type": "code",
      "metadata": {
        "colab": {
          "base_uri": "https://localhost:8080/",
          "height": 300
        },
        "id": "_DuWeB-papSl",
        "outputId": "af9692f1-8fd9-42c7-9ddf-bc853e275fad"
      },
      "source": [
        "# Buscamos el lr óptimo.\n",
        "learn.lr_find()"
      ],
      "execution_count": 17,
      "outputs": [
        {
          "output_type": "display_data",
          "data": {
            "text/html": [
              ""
            ],
            "text/plain": [
              "<IPython.core.display.HTML object>"
            ]
          },
          "metadata": {
            "tags": []
          }
        },
        {
          "output_type": "execute_result",
          "data": {
            "text/plain": [
              "SuggestedLRs(valley=tensor(0.0025))"
            ]
          },
          "metadata": {
            "tags": []
          },
          "execution_count": 17
        },
        {
          "output_type": "display_data",
          "data": {
            "image/png": "[encoded data removed]",
            "text/plain": [
              "<Figure size 432x288 with 1 Axes>"
            ]
          },
          "metadata": {
            "tags": [],
            "needs_background": "light"
          }
        }
      ]
    },
    {
      "cell_type": "code",
      "metadata": {
        "id": "Fbc5elB7apXH"
      },
      "source": [
        "# Creamos un objeto lr\n",
        "lr = 25e-3"
      ],
      "execution_count": 18,
      "outputs": []
    },
    {
      "cell_type": "code",
      "metadata": {
        "id": "1WZJW6Kuapax",
        "colab": {
          "base_uri": "https://localhost:8080/",
          "height": 80
        },
        "outputId": "f7bc8766-7556-4bfe-cbae-817292c2f24e"
      },
      "source": [
        "# Un fit de prueba\n",
        "learn.fit_one_cycle(1, lr, moms=(0.95,0.85,0.95))"
      ],
      "execution_count": 19,
      "outputs": [
        {
          "output_type": "display_data",
          "data": {
            "text/html": [
              "<table border=\"1\" class=\"dataframe\">\n",
              "  <thead>\n",
              "    <tr style=\"text-align: left;\">\n",
              "      <th>epoch</th>\n",
              "      <th>train_loss</th>\n",
              "      <th>valid_loss</th>\n",
              "      <th>accuracy</th>\n",
              "      <th>perplexity</th>\n",
              "      <th>time</th>\n",
              "    </tr>\n",
              "  </thead>\n",
              "  <tbody>\n",
              "    <tr>\n",
              "      <td>0</td>\n",
              "      <td>4.194475</td>\n",
              "      <td>3.920274</td>\n",
              "      <td>0.260592</td>\n",
              "      <td>50.414246</td>\n",
              "      <td>04:52</td>\n",
              "    </tr>\n",
              "  </tbody>\n",
              "</table>"
            ],
            "text/plain": [
              "<IPython.core.display.HTML object>"
            ]
          },
          "metadata": {
            "tags": []
          }
        }
      ]
    },
    {
      "cell_type": "code",
      "metadata": {
        "id": "SurTkQFDcWxD",
        "colab": {
          "base_uri": "https://localhost:8080/",
          "height": 204
        },
        "outputId": "3c126764-e47a-45ad-a04a-14645834fcf0"
      },
      "source": [
        "# Se descongelan las capas de a una.\n",
        "# Se hace un fit de 4 ciclos\n",
        "learn.unfreeze()\n",
        "learn.fit_one_cycle(4, slice(lr/100,lr), moms=(0.95,0.85,0.95))"
      ],
      "execution_count": 20,
      "outputs": [
        {
          "output_type": "display_data",
          "data": {
            "text/html": [
              "<table border=\"1\" class=\"dataframe\">\n",
              "  <thead>\n",
              "    <tr style=\"text-align: left;\">\n",
              "      <th>epoch</th>\n",
              "      <th>train_loss</th>\n",
              "      <th>valid_loss</th>\n",
              "      <th>accuracy</th>\n",
              "      <th>perplexity</th>\n",
              "      <th>time</th>\n",
              "    </tr>\n",
              "  </thead>\n",
              "  <tbody>\n",
              "    <tr>\n",
              "      <td>0</td>\n",
              "      <td>3.966814</td>\n",
              "      <td>3.801209</td>\n",
              "      <td>0.275514</td>\n",
              "      <td>44.755249</td>\n",
              "      <td>05:02</td>\n",
              "    </tr>\n",
              "    <tr>\n",
              "      <td>1</td>\n",
              "      <td>3.858006</td>\n",
              "      <td>3.677259</td>\n",
              "      <td>0.288440</td>\n",
              "      <td>39.537891</td>\n",
              "      <td>05:02</td>\n",
              "    </tr>\n",
              "    <tr>\n",
              "      <td>2</td>\n",
              "      <td>3.701862</td>\n",
              "      <td>3.578662</td>\n",
              "      <td>0.297818</td>\n",
              "      <td>35.825581</td>\n",
              "      <td>05:06</td>\n",
              "    </tr>\n",
              "    <tr>\n",
              "      <td>3</td>\n",
              "      <td>3.562368</td>\n",
              "      <td>3.503042</td>\n",
              "      <td>0.306138</td>\n",
              "      <td>33.216351</td>\n",
              "      <td>05:03</td>\n",
              "    </tr>\n",
              "    <tr>\n",
              "      <td>4</td>\n",
              "      <td>3.501318</td>\n",
              "      <td>3.484468</td>\n",
              "      <td>0.308555</td>\n",
              "      <td>32.605061</td>\n",
              "      <td>05:02</td>\n",
              "    </tr>\n",
              "  </tbody>\n",
              "</table>"
            ],
            "text/plain": [
              "<IPython.core.display.HTML object>"
            ]
          },
          "metadata": {
            "tags": []
          }
        }
      ]
    },
    {
      "cell_type": "code",
      "metadata": {
        "id": "gqdpv689pju3",
        "colab": {
          "base_uri": "https://localhost:8080/"
        },
        "outputId": "0b3a34ce-1557-45bc-87c1-fed6231451f3"
      },
      "source": [
        "# Se guarda el modelo encontrado.\n",
        "learn.save('/content/drive/MyDrive/MDS/IA/first_trainer')"
      ],
      "execution_count": 21,
      "outputs": [
        {
          "output_type": "execute_result",
          "data": {
            "text/plain": [
              "Path('/content/drive/MyDrive/MDS/IA/first_trainer.pth')"
            ]
          },
          "metadata": {
            "tags": []
          },
          "execution_count": 21
        }
      ]
    },
    {
      "cell_type": "markdown",
      "metadata": {
        "id": "qUpNxxB3Crre"
      },
      "source": [
        "### 2.3 (1 punto) Use el modelo conseguido en el punto anterior para generar 3 reseñas de productos ficticias. ¿Que pasa si varía el parámetro temperature?"
      ]
    },
    {
      "cell_type": "code",
      "metadata": {
        "id": "_ne7DUNvrKzF",
        "colab": {
          "base_uri": "https://localhost:8080/",
          "height": 17
        },
        "outputId": "64438912-99a0-45b6-8e88-f7560ec74197"
      },
      "source": [
        "TEXT = \"Ese notebook\"\n",
        "N_WORDS = 20\n",
        "N_SENTENCES = 3\n",
        "preds = [learn.predict(TEXT, N_WORDS, temperature=0.75) \n",
        "         for _ in range(N_SENTENCES)]"
      ],
      "execution_count": 24,
      "outputs": [
        {
          "output_type": "display_data",
          "data": {
            "text/html": [
              ""
            ],
            "text/plain": [
              "<IPython.core.display.HTML object>"
            ]
          },
          "metadata": {
            "tags": []
          }
        },
        {
          "output_type": "display_data",
          "data": {
            "text/html": [
              ""
            ],
            "text/plain": [
              "<IPython.core.display.HTML object>"
            ]
          },
          "metadata": {
            "tags": []
          }
        },
        {
          "output_type": "display_data",
          "data": {
            "text/html": [
              ""
            ],
            "text/plain": [
              "<IPython.core.display.HTML object>"
            ]
          },
          "metadata": {
            "tags": []
          }
        }
      ]
    },
    {
      "cell_type": "code",
      "metadata": {
        "id": "eGAoISOerYFX",
        "colab": {
          "base_uri": "https://localhost:8080/"
        },
        "outputId": "1a1e5832-44af-4660-a364-a4b69d2c6311"
      },
      "source": [
        "print(\"\\n\".join(preds))"
      ],
      "execution_count": 25,
      "outputs": [
        {
          "output_type": "stream",
          "text": [
            "▁xxbos ▁xxmaj ▁ese ▁note book ▁no ▁lo ▁he ▁recibido , me ▁han ▁devuelto ▁el ▁dinero . ▁xxbos ▁xxmaj ▁perfecta ▁para ▁estar ▁en ▁un ▁punto ▁de\n",
            "▁xxbos ▁xxmaj ▁ese ▁note book ▁cubre ▁la ▁pantalla ▁xxbos ▁xxmaj ▁sin ▁instrucciones , ▁pero ▁no ▁me ▁gusta ▁la ▁forma ▁de ▁corte , ▁ya ▁que ▁no\n",
            "▁xxbos ▁xxmaj ▁ese ▁note book ▁es ▁el ▁que ▁mejor ▁no ▁entiende ▁pero ▁lo ▁de ▁mejor ▁calidad ▁es ▁el ▁precio . ▁xxmaj ▁buena ▁compra . ▁xxbos\n"
          ],
          "name": "stdout"
        }
      ]
    },
    {
      "cell_type": "code",
      "metadata": {
        "id": "iCbonq3eroRm",
        "colab": {
          "base_uri": "https://localhost:8080/",
          "height": 17
        },
        "outputId": "d6a06779-264f-4f84-9fdf-36c6f26b5b3a"
      },
      "source": [
        "TEXT = \"El galaxy Note 9\"\n",
        "N_WORDS = 20\n",
        "N_SENTENCES = 3\n",
        "preds = [learn.predict(TEXT, N_WORDS, temperature=0.50) \n",
        "         for _ in range(N_SENTENCES)]"
      ],
      "execution_count": 26,
      "outputs": [
        {
          "output_type": "display_data",
          "data": {
            "text/html": [
              ""
            ],
            "text/plain": [
              "<IPython.core.display.HTML object>"
            ]
          },
          "metadata": {
            "tags": []
          }
        },
        {
          "output_type": "display_data",
          "data": {
            "text/html": [
              ""
            ],
            "text/plain": [
              "<IPython.core.display.HTML object>"
            ]
          },
          "metadata": {
            "tags": []
          }
        },
        {
          "output_type": "display_data",
          "data": {
            "text/html": [
              ""
            ],
            "text/plain": [
              "<IPython.core.display.HTML object>"
            ]
          },
          "metadata": {
            "tags": []
          }
        }
      ]
    },
    {
      "cell_type": "code",
      "metadata": {
        "id": "5UhTTIQurxbo",
        "colab": {
          "base_uri": "https://localhost:8080/"
        },
        "outputId": "423c6a64-0d6f-4095-d3fe-ea18b7b92b80"
      },
      "source": [
        "print(\"\\n\".join(preds))"
      ],
      "execution_count": 27,
      "outputs": [
        {
          "output_type": "stream",
          "text": [
            "▁xxbos ▁xxmaj ▁el ▁galaxy ▁xxmaj ▁note ▁9 ▁es ▁compatible ▁con ▁el ▁xxmaj ▁apple ▁xxmaj ▁watch ▁y ▁el ▁cargador . ▁xxmaj ▁el ▁problema ▁es ▁que ▁no ▁tiene ▁ruedas\n",
            "▁xxbos ▁xxmaj ▁el ▁galaxy ▁xxmaj ▁note ▁9 ▁no ▁se ▁ajusta ▁a ▁lo ▁que ▁buscaba . ▁xxmaj ▁la ▁funda ▁es ▁muy ▁endeble ▁y ▁se ▁rompe ▁con ▁mirarlo .\n",
            "▁xxbos ▁xxmaj ▁el ▁galaxy ▁xxmaj ▁note ▁9 ▁tiene ▁un ▁tacto ▁muy ▁agradable , ▁pero ▁la ▁duración ▁de ▁la ▁batería ▁es ▁bastante ▁escasa . ▁xxmaj ▁no ▁lo ▁recomendaría\n"
          ],
          "name": "stdout"
        }
      ]
    },
    {
      "cell_type": "code",
      "metadata": {
        "id": "xzHSSDsJWQ0Z",
        "colab": {
          "base_uri": "https://localhost:8080/",
          "height": 17
        },
        "outputId": "ba10c533-2653-4aad-e011-a1e2f414890a"
      },
      "source": [
        "TEXT = \"La televisión\"\n",
        "N_WORDS = 20\n",
        "N_SENTENCES = 3\n",
        "preds = [learn.predict(TEXT, N_WORDS, temperature=0.10) \n",
        "         for _ in range(N_SENTENCES)]"
      ],
      "execution_count": 28,
      "outputs": [
        {
          "output_type": "display_data",
          "data": {
            "text/html": [
              ""
            ],
            "text/plain": [
              "<IPython.core.display.HTML object>"
            ]
          },
          "metadata": {
            "tags": []
          }
        },
        {
          "output_type": "display_data",
          "data": {
            "text/html": [
              ""
            ],
            "text/plain": [
              "<IPython.core.display.HTML object>"
            ]
          },
          "metadata": {
            "tags": []
          }
        },
        {
          "output_type": "display_data",
          "data": {
            "text/html": [
              ""
            ],
            "text/plain": [
              "<IPython.core.display.HTML object>"
            ]
          },
          "metadata": {
            "tags": []
          }
        }
      ]
    },
    {
      "cell_type": "code",
      "metadata": {
        "id": "8fG_BtZaWQ-K",
        "colab": {
          "base_uri": "https://localhost:8080/"
        },
        "outputId": "101878af-29d1-4685-9822-913455f12d7b"
      },
      "source": [
        "print(\"\\n\".join(preds))"
      ],
      "execution_count": 29,
      "outputs": [
        {
          "output_type": "stream",
          "text": [
            "▁xxbos ▁xxmaj ▁la ▁televisión ▁es ▁muy ▁bonita , ▁pero ▁la ▁calidad ▁de ▁imagen ▁es ▁pésima . ▁xxmaj ▁la ▁calidad ▁de ▁imagen ▁es ▁muy ▁mala\n",
            "▁xxbos ▁xxmaj ▁la ▁televisión ▁es ▁muy ▁bonita , ▁pero ▁la ▁calidad ▁de ▁imagen ▁es ▁muy ▁mala , ▁no ▁se ▁puede ▁conectar ▁con ▁el ▁móvil\n",
            "▁xxbos ▁xxmaj ▁la ▁televisión ▁es ▁muy ▁bonita , ▁pero ▁la ▁calidad ▁de ▁imagen ▁es ▁mala , ▁no ▁se ▁ve ▁nada , ▁pero ▁es ▁muy\n"
          ],
          "name": "stdout"
        }
      ]
    },
    {
      "cell_type": "markdown",
      "metadata": {
        "id": "6prswk2CM8co"
      },
      "source": [
        "Al variar el parámetro temperature, regula la \"agresividad\" del comentario."
      ]
    },
    {
      "cell_type": "markdown",
      "metadata": {
        "id": "EfpkXGh5Cza1"
      },
      "source": [
        "### 2.4 (1.5 puntos) Use el modelo de lenguaje conseguido como punto de partida para realizar un modelo clasificador de texto para el problema de clasificar las reseñas (variable independiente) según su rating de estrellas (variable dependiente). Trate de llegar a una accuracy superior al 55%. ¿Podría explicar las razones de por qué se llega a un porcentaje de acierto tan bajo?"
      ]
    },
    {
      "cell_type": "code",
      "metadata": {
        "id": "HO8wNPcurzVx"
      },
      "source": [
        "df_lm2 = df[['stars', 'review_body']]"
      ],
      "execution_count": 32,
      "outputs": []
    },
    {
      "cell_type": "code",
      "metadata": {
        "id": "Q3u9tuW2mW0u",
        "colab": {
          "base_uri": "https://localhost:8080/",
          "height": 71
        },
        "outputId": "897d5711-ec4d-4668-ce84-6d16841964a7"
      },
      "source": [
        "dls_clas = DataBlock(\n",
        "    blocks=(TextBlock.from_df('review_body', vocab=dls.vocab),CategoryBlock),\n",
        "    get_x=ColReader('text'),\n",
        "    get_y=ColReader('stars'),\n",
        "    splitter=RandomSplitter(0.1)).dataloaders(df_lm2, bs=128, seq_len=72)"
      ],
      "execution_count": 33,
      "outputs": [
        {
          "output_type": "display_data",
          "data": {
            "text/html": [
              ""
            ],
            "text/plain": [
              "<IPython.core.display.HTML object>"
            ]
          },
          "metadata": {
            "tags": []
          }
        },
        {
          "output_type": "stream",
          "text": [
            "/usr/local/lib/python3.7/dist-packages/numpy/core/_asarray.py:83: VisibleDeprecationWarning: Creating an ndarray from ragged nested sequences (which is a list-or-tuple of lists-or-tuples-or ndarrays with different lengths or shapes) is deprecated. If you meant to do this, you must specify 'dtype=object' when creating the ndarray\n",
            "  return array(a, dtype, copy=False, order=order)\n"
          ],
          "name": "stderr"
        }
      ]
    },
    {
      "cell_type": "code",
      "metadata": {
        "id": "QTiikO16P0bb"
      },
      "source": [
        "# Se crea el objeto que contiene el modelo guardado.\n",
        "path = learn.save_lm('/content/drive/MyDrive/MDS/IA/firts_trainer')"
      ],
      "execution_count": 34,
      "outputs": []
    },
    {
      "cell_type": "code",
      "metadata": {
        "id": "hSRgtWNcPQM3"
      },
      "source": [
        "# Se crea el modelo basado en el aprendisaje del modelo anterior.\n",
        "learn2 = text_classifier_from_lm(dls_clas, path=path, metrics=[accuracy]).to_fp16()"
      ],
      "execution_count": 35,
      "outputs": []
    },
    {
      "cell_type": "code",
      "metadata": {
        "colab": {
          "base_uri": "https://localhost:8080/",
          "height": 300
        },
        "id": "IHDCFQTmTiGO",
        "outputId": "24ea95a0-cc86-4858-ab69-e76e375a0f8d"
      },
      "source": [
        "# Buscamos el LR óptimo.\n",
        "learn2.lr_find()"
      ],
      "execution_count": 36,
      "outputs": [
        {
          "output_type": "display_data",
          "data": {
            "text/html": [
              ""
            ],
            "text/plain": [
              "<IPython.core.display.HTML object>"
            ]
          },
          "metadata": {
            "tags": []
          }
        },
        {
          "output_type": "execute_result",
          "data": {
            "text/plain": [
              "SuggestedLRs(valley=tensor(0.0021))"
            ]
          },
          "metadata": {
            "tags": []
          },
          "execution_count": 36
        },
        {
          "output_type": "display_data",
          "data": {
            "image/png": "[encoded data removed]",
            "text/plain": [
              "<Figure size 432x288 with 1 Axes>"
            ]
          },
          "metadata": {
            "tags": [],
            "needs_background": "light"
          }
        }
      ]
    },
    {
      "cell_type": "code",
      "metadata": {
        "colab": {
          "base_uri": "https://localhost:8080/",
          "height": 422
        },
        "id": "PWvp7SsHUTXx",
        "outputId": "66d7c0b8-67b3-4901-910b-562c3736c979"
      },
      "source": [
        "# Como estamos utilizando un modelo pre entrenado, le podemos hacer directamente un fine tune.\n",
        "learn2.fine_tune(10, 21e-3)"
      ],
      "execution_count": 37,
      "outputs": [
        {
          "output_type": "display_data",
          "data": {
            "text/html": [
              "<table border=\"1\" class=\"dataframe\">\n",
              "  <thead>\n",
              "    <tr style=\"text-align: left;\">\n",
              "      <th>epoch</th>\n",
              "      <th>train_loss</th>\n",
              "      <th>valid_loss</th>\n",
              "      <th>accuracy</th>\n",
              "      <th>time</th>\n",
              "    </tr>\n",
              "  </thead>\n",
              "  <tbody>\n",
              "    <tr>\n",
              "      <td>0</td>\n",
              "      <td>1.399764</td>\n",
              "      <td>1.309826</td>\n",
              "      <td>0.425366</td>\n",
              "      <td>02:07</td>\n",
              "    </tr>\n",
              "  </tbody>\n",
              "</table>"
            ],
            "text/plain": [
              "<IPython.core.display.HTML object>"
            ]
          },
          "metadata": {
            "tags": []
          }
        },
        {
          "output_type": "display_data",
          "data": {
            "text/html": [
              "<table border=\"1\" class=\"dataframe\">\n",
              "  <thead>\n",
              "    <tr style=\"text-align: left;\">\n",
              "      <th>epoch</th>\n",
              "      <th>train_loss</th>\n",
              "      <th>valid_loss</th>\n",
              "      <th>accuracy</th>\n",
              "      <th>time</th>\n",
              "    </tr>\n",
              "  </thead>\n",
              "  <tbody>\n",
              "    <tr>\n",
              "      <td>0</td>\n",
              "      <td>1.150460</td>\n",
              "      <td>1.106540</td>\n",
              "      <td>0.512683</td>\n",
              "      <td>02:15</td>\n",
              "    </tr>\n",
              "    <tr>\n",
              "      <td>1</td>\n",
              "      <td>1.122031</td>\n",
              "      <td>1.091323</td>\n",
              "      <td>0.521854</td>\n",
              "      <td>02:15</td>\n",
              "    </tr>\n",
              "    <tr>\n",
              "      <td>2</td>\n",
              "      <td>1.102545</td>\n",
              "      <td>1.066522</td>\n",
              "      <td>0.527073</td>\n",
              "      <td>02:15</td>\n",
              "    </tr>\n",
              "    <tr>\n",
              "      <td>3</td>\n",
              "      <td>1.074377</td>\n",
              "      <td>1.043687</td>\n",
              "      <td>0.545366</td>\n",
              "      <td>02:15</td>\n",
              "    </tr>\n",
              "    <tr>\n",
              "      <td>4</td>\n",
              "      <td>1.040142</td>\n",
              "      <td>1.041715</td>\n",
              "      <td>0.542098</td>\n",
              "      <td>02:14</td>\n",
              "    </tr>\n",
              "    <tr>\n",
              "      <td>5</td>\n",
              "      <td>1.007324</td>\n",
              "      <td>1.040686</td>\n",
              "      <td>0.547073</td>\n",
              "      <td>02:14</td>\n",
              "    </tr>\n",
              "    <tr>\n",
              "      <td>6</td>\n",
              "      <td>0.975802</td>\n",
              "      <td>1.045155</td>\n",
              "      <td>0.545707</td>\n",
              "      <td>02:14</td>\n",
              "    </tr>\n",
              "    <tr>\n",
              "      <td>7</td>\n",
              "      <td>0.944189</td>\n",
              "      <td>1.053807</td>\n",
              "      <td>0.544683</td>\n",
              "      <td>02:14</td>\n",
              "    </tr>\n",
              "    <tr>\n",
              "      <td>8</td>\n",
              "      <td>0.907960</td>\n",
              "      <td>1.068662</td>\n",
              "      <td>0.544878</td>\n",
              "      <td>02:15</td>\n",
              "    </tr>\n",
              "    <tr>\n",
              "      <td>9</td>\n",
              "      <td>0.919771</td>\n",
              "      <td>1.073300</td>\n",
              "      <td>0.544829</td>\n",
              "      <td>02:16</td>\n",
              "    </tr>\n",
              "  </tbody>\n",
              "</table>"
            ],
            "text/plain": [
              "<IPython.core.display.HTML object>"
            ]
          },
          "metadata": {
            "tags": []
          }
        }
      ]
    },
    {
      "cell_type": "markdown",
      "metadata": {
        "id": "-t-Q-OHDK4HS"
      },
      "source": [
        "El porcentaje de aciertos es bajo ya que el modelo comete muchos errores en su clasificación. Se puede deber principalmente a que el Modelo no es capaz de poder definir la categoría de los comentarios ya que no existen fronteras tan claras entre los distintos tipos de clases."
      ]
    },
    {
      "cell_type": "markdown",
      "metadata": {
        "id": "4YHdXgKbC5ZY"
      },
      "source": [
        "### 2.5 (1.5 puntos) ¿Qué pasa si disminuimos la cantidad de categorías a clasificar? (por ejemplo, agrupar niveles de rating de estrellas similares). Evalúe cómo varía el desempeño de la clasificación en base a este escenario."
      ]
    },
    {
      "cell_type": "code",
      "metadata": {
        "id": "bDG7uNMl1M2e"
      },
      "source": [
        "# Se crea una nueva columna en donde se indica como positivo todos aquellos comentarios mayores o iguales a 4 y\n",
        "# negativo todos los otros.\n",
        "df[\"nps\"] = df.apply(lambda x: \"Positivo\" if int(x[\"stars\"]) >= 4 else \"Negativo\", axis=1)"
      ],
      "execution_count": 38,
      "outputs": []
    },
    {
      "cell_type": "code",
      "metadata": {
        "id": "G5d_8rAMWeU5"
      },
      "source": [
        "# Se crea un nuevo df\n",
        "df_lm3 = df[['nps', 'review_body']]"
      ],
      "execution_count": 39,
      "outputs": []
    },
    {
      "cell_type": "code",
      "metadata": {
        "id": "OuvT1yu3WkBm",
        "colab": {
          "base_uri": "https://localhost:8080/",
          "height": 71
        },
        "outputId": "8af716b0-0548-4fd8-992d-c605f83c0e11"
      },
      "source": [
        "# Se crea el nuevo Datablock\n",
        "dls_clas2 = DataBlock(\n",
        "    blocks=(TextBlock.from_df('review_body', vocab=dls.vocab),CategoryBlock),\n",
        "    get_x=ColReader('text'),\n",
        "    get_y=ColReader('nps'),\n",
        "    splitter=RandomSplitter(0.1)).dataloaders(df_lm3, bs=128, seq_len=72)"
      ],
      "execution_count": 42,
      "outputs": [
        {
          "output_type": "display_data",
          "data": {
            "text/html": [
              ""
            ],
            "text/plain": [
              "<IPython.core.display.HTML object>"
            ]
          },
          "metadata": {
            "tags": []
          }
        },
        {
          "output_type": "stream",
          "text": [
            "/usr/local/lib/python3.7/dist-packages/numpy/core/_asarray.py:83: VisibleDeprecationWarning: Creating an ndarray from ragged nested sequences (which is a list-or-tuple of lists-or-tuples-or ndarrays with different lengths or shapes) is deprecated. If you meant to do this, you must specify 'dtype=object' when creating the ndarray\n",
            "  return array(a, dtype, copy=False, order=order)\n"
          ],
          "name": "stderr"
        }
      ]
    },
    {
      "cell_type": "code",
      "metadata": {
        "id": "ZDTi2Uv6WplY"
      },
      "source": [
        "# Se crea el modelo\n",
        "learn3 = text_classifier_from_lm(dls_clas2, path=path, metrics=[accuracy]).to_fp16()"
      ],
      "execution_count": 43,
      "outputs": []
    },
    {
      "cell_type": "code",
      "metadata": {
        "id": "jkzsWdAqWzDS",
        "colab": {
          "base_uri": "https://localhost:8080/",
          "height": 300
        },
        "outputId": "20698099-f643-479e-9c6f-8e3b0fac9468"
      },
      "source": [
        "# Buscamos el LR óptimo.\n",
        "learn3.lr_find()"
      ],
      "execution_count": 44,
      "outputs": [
        {
          "output_type": "display_data",
          "data": {
            "text/html": [
              ""
            ],
            "text/plain": [
              "<IPython.core.display.HTML object>"
            ]
          },
          "metadata": {
            "tags": []
          }
        },
        {
          "output_type": "execute_result",
          "data": {
            "text/plain": [
              "SuggestedLRs(valley=tensor(0.0014))"
            ]
          },
          "metadata": {
            "tags": []
          },
          "execution_count": 44
        },
        {
          "output_type": "display_data",
          "data": {
            "image/png": "[encoded data removed]",
            "text/plain": [
              "<Figure size 432x288 with 1 Axes>"
            ]
          },
          "metadata": {
            "tags": [],
            "needs_background": "light"
          }
        }
      ]
    },
    {
      "cell_type": "code",
      "metadata": {
        "id": "rt9yE5GnW2Tv",
        "colab": {
          "base_uri": "https://localhost:8080/",
          "height": 422
        },
        "outputId": "43966673-7f49-49a8-9c28-7b047a373f40"
      },
      "source": [
        "# Le hacemos un fine tune.\n",
        "learn2.fine_tune(10, 14e-3)"
      ],
      "execution_count": 45,
      "outputs": [
        {
          "output_type": "display_data",
          "data": {
            "text/html": [
              "<table border=\"1\" class=\"dataframe\">\n",
              "  <thead>\n",
              "    <tr style=\"text-align: left;\">\n",
              "      <th>epoch</th>\n",
              "      <th>train_loss</th>\n",
              "      <th>valid_loss</th>\n",
              "      <th>accuracy</th>\n",
              "      <th>time</th>\n",
              "    </tr>\n",
              "  </thead>\n",
              "  <tbody>\n",
              "    <tr>\n",
              "      <td>0</td>\n",
              "      <td>0.913107</td>\n",
              "      <td>1.068071</td>\n",
              "      <td>0.545415</td>\n",
              "      <td>02:11</td>\n",
              "    </tr>\n",
              "  </tbody>\n",
              "</table>"
            ],
            "text/plain": [
              "<IPython.core.display.HTML object>"
            ]
          },
          "metadata": {
            "tags": []
          }
        },
        {
          "output_type": "display_data",
          "data": {
            "text/html": [
              "<table border=\"1\" class=\"dataframe\">\n",
              "  <thead>\n",
              "    <tr style=\"text-align: left;\">\n",
              "      <th>epoch</th>\n",
              "      <th>train_loss</th>\n",
              "      <th>valid_loss</th>\n",
              "      <th>accuracy</th>\n",
              "      <th>time</th>\n",
              "    </tr>\n",
              "  </thead>\n",
              "  <tbody>\n",
              "    <tr>\n",
              "      <td>0</td>\n",
              "      <td>0.902520</td>\n",
              "      <td>1.072211</td>\n",
              "      <td>0.546488</td>\n",
              "      <td>02:17</td>\n",
              "    </tr>\n",
              "    <tr>\n",
              "      <td>1</td>\n",
              "      <td>0.933732</td>\n",
              "      <td>1.068615</td>\n",
              "      <td>0.538098</td>\n",
              "      <td>02:17</td>\n",
              "    </tr>\n",
              "    <tr>\n",
              "      <td>2</td>\n",
              "      <td>0.943626</td>\n",
              "      <td>1.077296</td>\n",
              "      <td>0.541610</td>\n",
              "      <td>02:17</td>\n",
              "    </tr>\n",
              "    <tr>\n",
              "      <td>3</td>\n",
              "      <td>0.942928</td>\n",
              "      <td>1.079742</td>\n",
              "      <td>0.534049</td>\n",
              "      <td>02:18</td>\n",
              "    </tr>\n",
              "    <tr>\n",
              "      <td>4</td>\n",
              "      <td>0.898456</td>\n",
              "      <td>1.115751</td>\n",
              "      <td>0.537122</td>\n",
              "      <td>02:19</td>\n",
              "    </tr>\n",
              "    <tr>\n",
              "      <td>5</td>\n",
              "      <td>0.855507</td>\n",
              "      <td>1.116968</td>\n",
              "      <td>0.536195</td>\n",
              "      <td>02:18</td>\n",
              "    </tr>\n",
              "    <tr>\n",
              "      <td>6</td>\n",
              "      <td>0.822622</td>\n",
              "      <td>1.151743</td>\n",
              "      <td>0.532439</td>\n",
              "      <td>02:15</td>\n",
              "    </tr>\n",
              "    <tr>\n",
              "      <td>7</td>\n",
              "      <td>0.778568</td>\n",
              "      <td>1.181728</td>\n",
              "      <td>0.527707</td>\n",
              "      <td>02:17</td>\n",
              "    </tr>\n",
              "    <tr>\n",
              "      <td>8</td>\n",
              "      <td>0.747908</td>\n",
              "      <td>1.216867</td>\n",
              "      <td>0.525854</td>\n",
              "      <td>02:16</td>\n",
              "    </tr>\n",
              "    <tr>\n",
              "      <td>9</td>\n",
              "      <td>0.713471</td>\n",
              "      <td>1.231644</td>\n",
              "      <td>0.525024</td>\n",
              "      <td>02:16</td>\n",
              "    </tr>\n",
              "  </tbody>\n",
              "</table>"
            ],
            "text/plain": [
              "<IPython.core.display.HTML object>"
            ]
          },
          "metadata": {
            "tags": []
          }
        }
      ]
    },
    {
      "cell_type": "code",
      "metadata": {
        "id": "78KqvVXappGy"
      },
      "source": [
        "import seaborn as sns\n",
        "import matplotlib.pyplot as plt"
      ],
      "execution_count": 46,
      "outputs": []
    },
    {
      "cell_type": "code",
      "metadata": {
        "id": "uIom1NbE2yyN",
        "colab": {
          "base_uri": "https://localhost:8080/",
          "height": 279
        },
        "outputId": "9749356d-5c61-47ab-846e-906138fb7f52"
      },
      "source": [
        "# Nos damos cuenta que la las clases no están desbalancedas.\n",
        "sns.histplot(data=df, x=\"nps\")\n",
        "plt.show()"
      ],
      "execution_count": 47,
      "outputs": [
        {
          "output_type": "display_data",
          "data": {
            "image/png": "[encoded data removed]",
            "text/plain": [
              "<Figure size 432x288 with 1 Axes>"
            ]
          },
          "metadata": {
            "tags": [],
            "needs_background": "light"
          }
        }
      ]
    },
    {
      "cell_type": "markdown",
      "metadata": {
        "id": "qm-LCYB0KnQr"
      },
      "source": [
        "Al cambiar a menos clases el resultado varía de manera negativa bajando el accuracy en tres puntos"
      ]
    },
    {
      "cell_type": "code",
      "metadata": {
        "id": "wtwZI-Nq22ke"
      },
      "source": [
        ""
      ],
      "execution_count": null,
      "outputs": []
    }
  ]
}